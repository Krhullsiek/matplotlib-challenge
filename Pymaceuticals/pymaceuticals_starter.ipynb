{
 "cells": [
  {
   "cell_type": "markdown",
   "metadata": {},
   "source": [
    "## Observations and Insights "
   ]
  },
  {
   "cell_type": "markdown",
   "metadata": {},
   "source": [
    "Three inferences can be made about the data below.\n",
    "\n",
    "The first inference is that the final tumor volume in 'Capomulin' and 'Ramicane' regimens seem to be smaller than in the 'Infubinol' and 'Ceftamin' regimens. This could lead to the inference that the regimens 'Capomulin' and 'Ramicane' were more successful at reducing tumor sizes than the other two. However, we would want to assess the overall change in tumor volume and compare any other factors that may have an infuence on these results to make any conclusions. Another thing to note is that the 'Capomulin' and 'Ramicane' regimens were used  on more mice than any others.\n",
    "\n",
    "The second inference can be made when looking at the correlations shown below when looking at the\n",
    "'Capomulin' regimen. In once mouse there is a negative correlation between amount of time on the regimen, showing that with more time on the regimen, the tumor size dcreased. We could infer that the regimen was successful in reducing the tumor size in that mouse. We should compare these results to the rest of the mice in order to draw a stronger conclusion.\n",
    "\n",
    "Third, When we compare mouse weight to tumor size in all mice within the 'Capomulin' regimen, we see that there is a positive correlation with weight and tumor size, showing that the higher the weight of the mouse, the larger the tumor size. The correlation is close to strong at 0.84 correlation coefficient. We could infer that tumor size is impacted by mouse weight in some way, although correlation does not equal causation. It would also be interesting to compare the amount of reduction in mice with higher weight versus lower weight between regimens do see if there is any difference over time.\n"
   ]
  },
  {
   "cell_type": "code",
   "execution_count": 234,
   "metadata": {
    "scrolled": false
   },
   "outputs": [],
   "source": [
    "# Dependencies and Setup\n",
    "import matplotlib.pyplot as plt\n",
    "import pandas as pd\n",
    "import scipy.stats as st\n",
    "import numpy as np\n",
    "from scipy.stats import linregress\n",
    "\n",
    "# Study data files\n",
    "mouse_metadata_path = \"data/Mouse_metadata.csv\"\n",
    "study_results_path = \"data/Study_results.csv\"\n",
    "\n",
    "# Read the mouse data and the study results\n",
    "mouse_metadata = pd.read_csv(mouse_metadata_path)\n",
    "study_results = pd.read_csv(study_results_path)\n",
    "\n",
    "# Combine the data into a single dataset\n",
    "combined_study_data = pd.merge(mouse_metadata, study_results)\n",
    "\n",
    "# Display the data table for preview\n",
    "#combined_study_data.head()"
   ]
  },
  {
   "cell_type": "code",
   "execution_count": 235,
   "metadata": {
    "scrolled": true
   },
   "outputs": [],
   "source": [
    "# Count number of mice\n",
    "mice = combined_study_data['Mouse ID'].value_counts()\n",
    "num_mice = len(mice)\n",
    "#num_mice"
   ]
  },
  {
   "cell_type": "code",
   "execution_count": 236,
   "metadata": {
    "scrolled": true
   },
   "outputs": [],
   "source": [
    "# Getting the duplicate mice by ID number that shows up for Mouse ID and Timepoint. \n",
    "\n",
    "duplicate_mice = combined_study_data.loc[combined_study_data.duplicated(subset=['Mouse ID', 'Timepoint',]),'Mouse ID'].unique()\n",
    "#duplicate_mice\n"
   ]
  },
  {
   "cell_type": "code",
   "execution_count": 237,
   "metadata": {
    "scrolled": false
   },
   "outputs": [],
   "source": [
    "# Optional: Get all the data for the duplicate mouse ID. \n",
    "g989 = combined_study_data[combined_study_data['Mouse ID']== 'g989'] \n",
    "#g989\n"
   ]
  },
  {
   "cell_type": "code",
   "execution_count": 238,
   "metadata": {
    "scrolled": false
   },
   "outputs": [],
   "source": [
    "# Create a clean DataFrame by dropping the duplicate mouse by its ID.\n",
    "clean_mice_data = combined_study_data.drop_duplicates(subset=['Mouse ID', 'Timepoint'], keep='last')\n",
    "clean_mice_data = clean_mice_data.reset_index()\n",
    "#clean_mice_data"
   ]
  },
  {
   "cell_type": "code",
   "execution_count": 239,
   "metadata": {
    "scrolled": true
   },
   "outputs": [],
   "source": [
    "clean_g989 = clean_mice_data[clean_mice_data['Mouse ID']== 'g989'] \n",
    "#clean_g989"
   ]
  },
  {
   "cell_type": "code",
   "execution_count": 240,
   "metadata": {
    "scrolled": false
   },
   "outputs": [],
   "source": [
    "# Checking the number of mice in the clean DataFrame.\n",
    "clean_mice = clean_mice_data['Mouse ID'].value_counts()\n",
    "num_clean_mice = len(clean_mice)\n",
    "#num_clean_mice"
   ]
  },
  {
   "cell_type": "markdown",
   "metadata": {},
   "source": [
    "## Summary Statistics"
   ]
  },
  {
   "cell_type": "code",
   "execution_count": 241,
   "metadata": {
    "scrolled": true
   },
   "outputs": [
    {
     "data": {
      "text/html": [
       "<div>\n",
       "<style scoped>\n",
       "    .dataframe tbody tr th:only-of-type {\n",
       "        vertical-align: middle;\n",
       "    }\n",
       "\n",
       "    .dataframe tbody tr th {\n",
       "        vertical-align: top;\n",
       "    }\n",
       "\n",
       "    .dataframe thead th {\n",
       "        text-align: right;\n",
       "    }\n",
       "</style>\n",
       "<table border=\"1\" class=\"dataframe\">\n",
       "  <thead>\n",
       "    <tr style=\"text-align: right;\">\n",
       "      <th></th>\n",
       "      <th>Mean Tumor Volume</th>\n",
       "      <th>Median Tumor Volume</th>\n",
       "      <th>Variance</th>\n",
       "      <th>Standard Deviation</th>\n",
       "      <th>SEM</th>\n",
       "    </tr>\n",
       "    <tr>\n",
       "      <th>Drug Regimen</th>\n",
       "      <th></th>\n",
       "      <th></th>\n",
       "      <th></th>\n",
       "      <th></th>\n",
       "      <th></th>\n",
       "    </tr>\n",
       "  </thead>\n",
       "  <tbody>\n",
       "    <tr>\n",
       "      <th>Capomulin</th>\n",
       "      <td>40.68</td>\n",
       "      <td>41.56</td>\n",
       "      <td>24.95</td>\n",
       "      <td>4.99</td>\n",
       "      <td>0.33</td>\n",
       "    </tr>\n",
       "    <tr>\n",
       "      <th>Ceftamin</th>\n",
       "      <td>52.59</td>\n",
       "      <td>51.78</td>\n",
       "      <td>39.29</td>\n",
       "      <td>6.27</td>\n",
       "      <td>0.47</td>\n",
       "    </tr>\n",
       "    <tr>\n",
       "      <th>Infubinol</th>\n",
       "      <td>52.88</td>\n",
       "      <td>51.82</td>\n",
       "      <td>43.13</td>\n",
       "      <td>6.57</td>\n",
       "      <td>0.49</td>\n",
       "    </tr>\n",
       "    <tr>\n",
       "      <th>Ketapril</th>\n",
       "      <td>55.24</td>\n",
       "      <td>53.70</td>\n",
       "      <td>68.55</td>\n",
       "      <td>8.28</td>\n",
       "      <td>0.60</td>\n",
       "    </tr>\n",
       "    <tr>\n",
       "      <th>Naftisol</th>\n",
       "      <td>54.33</td>\n",
       "      <td>52.51</td>\n",
       "      <td>66.17</td>\n",
       "      <td>8.13</td>\n",
       "      <td>0.60</td>\n",
       "    </tr>\n",
       "    <tr>\n",
       "      <th>Placebo</th>\n",
       "      <td>54.03</td>\n",
       "      <td>52.29</td>\n",
       "      <td>61.17</td>\n",
       "      <td>7.82</td>\n",
       "      <td>0.58</td>\n",
       "    </tr>\n",
       "    <tr>\n",
       "      <th>Propriva</th>\n",
       "      <td>52.38</td>\n",
       "      <td>50.78</td>\n",
       "      <td>43.22</td>\n",
       "      <td>6.57</td>\n",
       "      <td>0.53</td>\n",
       "    </tr>\n",
       "    <tr>\n",
       "      <th>Ramicane</th>\n",
       "      <td>40.22</td>\n",
       "      <td>40.67</td>\n",
       "      <td>23.49</td>\n",
       "      <td>4.85</td>\n",
       "      <td>0.32</td>\n",
       "    </tr>\n",
       "    <tr>\n",
       "      <th>Stelasyn</th>\n",
       "      <td>54.23</td>\n",
       "      <td>52.43</td>\n",
       "      <td>59.45</td>\n",
       "      <td>7.71</td>\n",
       "      <td>0.57</td>\n",
       "    </tr>\n",
       "    <tr>\n",
       "      <th>Zoniferol</th>\n",
       "      <td>53.24</td>\n",
       "      <td>51.82</td>\n",
       "      <td>48.53</td>\n",
       "      <td>6.97</td>\n",
       "      <td>0.52</td>\n",
       "    </tr>\n",
       "  </tbody>\n",
       "</table>\n",
       "</div>"
      ],
      "text/plain": [
       "              Mean Tumor Volume  Median Tumor Volume  Variance  \\\n",
       "Drug Regimen                                                     \n",
       "Capomulin                 40.68                41.56     24.95   \n",
       "Ceftamin                  52.59                51.78     39.29   \n",
       "Infubinol                 52.88                51.82     43.13   \n",
       "Ketapril                  55.24                53.70     68.55   \n",
       "Naftisol                  54.33                52.51     66.17   \n",
       "Placebo                   54.03                52.29     61.17   \n",
       "Propriva                  52.38                50.78     43.22   \n",
       "Ramicane                  40.22                40.67     23.49   \n",
       "Stelasyn                  54.23                52.43     59.45   \n",
       "Zoniferol                 53.24                51.82     48.53   \n",
       "\n",
       "              Standard Deviation   SEM  \n",
       "Drug Regimen                            \n",
       "Capomulin                   4.99  0.33  \n",
       "Ceftamin                    6.27  0.47  \n",
       "Infubinol                   6.57  0.49  \n",
       "Ketapril                    8.28  0.60  \n",
       "Naftisol                    8.13  0.60  \n",
       "Placebo                     7.82  0.58  \n",
       "Propriva                    6.57  0.53  \n",
       "Ramicane                    4.85  0.32  \n",
       "Stelasyn                    7.71  0.57  \n",
       "Zoniferol                   6.97  0.52  "
      ]
     },
     "execution_count": 241,
     "metadata": {},
     "output_type": "execute_result"
    }
   ],
   "source": [
    "# Generate a summary statistics table of mean, median, variance, standard deviation, and SEM of the tumor volume for each regimen\n",
    "# Use groupby and summary statistical methods to calculate the following properties of each drug regimen: \n",
    "dr = clean_mice_data.groupby(['Drug Regimen'])\n",
    "\n",
    "# mean, median, variance, standard deviation, and SEM of the tumor volume. \n",
    "mean_tv = dr['Tumor Volume (mm3)'].mean()\n",
    "\n",
    "median_tv = dr['Tumor Volume (mm3)'].median()\n",
    "\n",
    "var_tv = dr['Tumor Volume (mm3)'].var()\n",
    "\n",
    "sd_tv = dr['Tumor Volume (mm3)'].std()\n",
    "\n",
    "sem_tv = dr['Tumor Volume (mm3)'].sem()\n",
    "\n",
    "# mean_tv\n",
    "# median_tv\n",
    "# var_tv\n",
    "# sd_tv\n",
    "# sem_tv\n",
    "\n",
    "# Assemble the resulting series into a single summary dataframe\n",
    "# Create columns for the dataframe\n",
    "summary_df = pd.DataFrame({\"Mean Tumor Volume\":mean_tv,\"Median Tumor Volume\":median_tv,\"Variance\":var_tv, \"Standard Deviation\": sd_tv, \"SEM\": sem_tv})\n",
    "summary_df = summary_df.round(2)\n",
    "summary_df\n",
    "\n",
    "\n",
    "\n"
   ]
  },
  {
   "cell_type": "code",
   "execution_count": 242,
   "metadata": {
    "scrolled": false
   },
   "outputs": [
    {
     "data": {
      "text/html": [
       "<div>\n",
       "<style scoped>\n",
       "    .dataframe tbody tr th:only-of-type {\n",
       "        vertical-align: middle;\n",
       "    }\n",
       "\n",
       "    .dataframe tbody tr th {\n",
       "        vertical-align: top;\n",
       "    }\n",
       "\n",
       "    .dataframe thead th {\n",
       "        text-align: right;\n",
       "    }\n",
       "</style>\n",
       "<table border=\"1\" class=\"dataframe\">\n",
       "  <thead>\n",
       "    <tr style=\"text-align: right;\">\n",
       "      <th></th>\n",
       "      <th>Mean Tumor Volume</th>\n",
       "      <th>Median Tumor Volume</th>\n",
       "      <th>Variance</th>\n",
       "      <th>Standard Deviation</th>\n",
       "      <th>SEM</th>\n",
       "    </tr>\n",
       "    <tr>\n",
       "      <th>Drug Regimen</th>\n",
       "      <th></th>\n",
       "      <th></th>\n",
       "      <th></th>\n",
       "      <th></th>\n",
       "      <th></th>\n",
       "    </tr>\n",
       "  </thead>\n",
       "  <tbody>\n",
       "    <tr>\n",
       "      <th>Capomulin</th>\n",
       "      <td>40.68</td>\n",
       "      <td>41.56</td>\n",
       "      <td>24.95</td>\n",
       "      <td>4.99</td>\n",
       "      <td>0.33</td>\n",
       "    </tr>\n",
       "    <tr>\n",
       "      <th>Ceftamin</th>\n",
       "      <td>52.59</td>\n",
       "      <td>51.78</td>\n",
       "      <td>39.29</td>\n",
       "      <td>6.27</td>\n",
       "      <td>0.47</td>\n",
       "    </tr>\n",
       "    <tr>\n",
       "      <th>Infubinol</th>\n",
       "      <td>52.88</td>\n",
       "      <td>51.82</td>\n",
       "      <td>43.13</td>\n",
       "      <td>6.57</td>\n",
       "      <td>0.49</td>\n",
       "    </tr>\n",
       "    <tr>\n",
       "      <th>Ketapril</th>\n",
       "      <td>55.24</td>\n",
       "      <td>53.70</td>\n",
       "      <td>68.55</td>\n",
       "      <td>8.28</td>\n",
       "      <td>0.60</td>\n",
       "    </tr>\n",
       "    <tr>\n",
       "      <th>Naftisol</th>\n",
       "      <td>54.33</td>\n",
       "      <td>52.51</td>\n",
       "      <td>66.17</td>\n",
       "      <td>8.13</td>\n",
       "      <td>0.60</td>\n",
       "    </tr>\n",
       "    <tr>\n",
       "      <th>Placebo</th>\n",
       "      <td>54.03</td>\n",
       "      <td>52.29</td>\n",
       "      <td>61.17</td>\n",
       "      <td>7.82</td>\n",
       "      <td>0.58</td>\n",
       "    </tr>\n",
       "    <tr>\n",
       "      <th>Propriva</th>\n",
       "      <td>52.38</td>\n",
       "      <td>50.78</td>\n",
       "      <td>43.22</td>\n",
       "      <td>6.57</td>\n",
       "      <td>0.53</td>\n",
       "    </tr>\n",
       "    <tr>\n",
       "      <th>Ramicane</th>\n",
       "      <td>40.22</td>\n",
       "      <td>40.67</td>\n",
       "      <td>23.49</td>\n",
       "      <td>4.85</td>\n",
       "      <td>0.32</td>\n",
       "    </tr>\n",
       "    <tr>\n",
       "      <th>Stelasyn</th>\n",
       "      <td>54.23</td>\n",
       "      <td>52.43</td>\n",
       "      <td>59.45</td>\n",
       "      <td>7.71</td>\n",
       "      <td>0.57</td>\n",
       "    </tr>\n",
       "    <tr>\n",
       "      <th>Zoniferol</th>\n",
       "      <td>53.24</td>\n",
       "      <td>51.82</td>\n",
       "      <td>48.53</td>\n",
       "      <td>6.97</td>\n",
       "      <td>0.52</td>\n",
       "    </tr>\n",
       "  </tbody>\n",
       "</table>\n",
       "</div>"
      ],
      "text/plain": [
       "              Mean Tumor Volume  Median Tumor Volume  Variance  \\\n",
       "Drug Regimen                                                     \n",
       "Capomulin                 40.68                41.56     24.95   \n",
       "Ceftamin                  52.59                51.78     39.29   \n",
       "Infubinol                 52.88                51.82     43.13   \n",
       "Ketapril                  55.24                53.70     68.55   \n",
       "Naftisol                  54.33                52.51     66.17   \n",
       "Placebo                   54.03                52.29     61.17   \n",
       "Propriva                  52.38                50.78     43.22   \n",
       "Ramicane                  40.22                40.67     23.49   \n",
       "Stelasyn                  54.23                52.43     59.45   \n",
       "Zoniferol                 53.24                51.82     48.53   \n",
       "\n",
       "              Standard Deviation   SEM  \n",
       "Drug Regimen                            \n",
       "Capomulin                   4.99  0.33  \n",
       "Ceftamin                    6.27  0.47  \n",
       "Infubinol                   6.57  0.49  \n",
       "Ketapril                    8.28  0.60  \n",
       "Naftisol                    8.13  0.60  \n",
       "Placebo                     7.82  0.58  \n",
       "Propriva                    6.57  0.53  \n",
       "Ramicane                    4.85  0.32  \n",
       "Stelasyn                    7.71  0.57  \n",
       "Zoniferol                   6.97  0.52  "
      ]
     },
     "execution_count": 242,
     "metadata": {},
     "output_type": "execute_result"
    }
   ],
   "source": [
    "# Generate a summary statistics table of mean, median, variance, standard deviation, and SEM of the tumor volume for each regimen\n",
    "\n",
    "# Using the aggregation method, produce the same summary statistics in a single line\n",
    "agg_sum = clean_mice_data.groupby([\"Drug Regimen\",]).agg({\"Tumor Volume (mm3)\":[\"mean\",\"median\",\"var\",\"std\",\"sem\"]})\n",
    "\n",
    "agg_sum.columns = [\"Mean Tumor Volume\",\"Median Tumor Volume\",\"Variance\", \"Standard Deviation\", \"SEM\"]\n",
    "\n",
    "agg_sum = agg_sum.round(2)\n",
    "\n",
    "agg_sum\n"
   ]
  },
  {
   "cell_type": "markdown",
   "metadata": {},
   "source": [
    "# Bar and Pie Charts"
   ]
  },
  {
   "cell_type": "code",
   "execution_count": 243,
   "metadata": {
    "scrolled": true
   },
   "outputs": [
    {
     "data": {
      "image/png": "[encoded data removed]",
      "text/plain": [
       "<Figure size 432x288 with 1 Axes>"
      ]
     },
     "metadata": {
      "needs_background": "light"
     },
     "output_type": "display_data"
    }
   ],
   "source": [
    "# Generate a bar plot showing the total number of unique mice tested on each drug regimen using pandas.\n",
    "dm_group = clean_mice_data.groupby([\"Drug Regimen\"]).count()[\"Mouse ID\"]\n",
    "bp1 = dm_group.plot.bar(align= \"center\", width= .5)\n",
    "\n",
    "plt.title(\"Drug Regimens Used on Mice\")\n",
    "plt.xlabel(\"Drug Regimen\")\n",
    "plt.ylabel(\"Number of Mice\")\n",
    "\n",
    "plt.show()"
   ]
  },
  {
   "cell_type": "code",
   "execution_count": 244,
   "metadata": {
    "scrolled": false
   },
   "outputs": [
    {
     "data": {
      "image/png": "[encoded data removed]",
      "text/plain": [
       "<Figure size 432x288 with 1 Axes>"
      ]
     },
     "metadata": {
      "needs_background": "light"
     },
     "output_type": "display_data"
    }
   ],
   "source": [
    "# Generate a bar plot showing the total number of unique mice tested on each drug regimen using pyplot.\n",
    "\n",
    "y_axis = dm_group.values\n",
    "x_axis = np.arange(0,len(y_axis),1)\n",
    "x = dm_group.index\n",
    "\n",
    "plt.bar(x, y_axis, align= \"center\", width= .5)\n",
    "\n",
    "tick_locations = [value for value in x_axis]\n",
    "plt.xticks(tick_locations, [\"Capomulin\", \"Ceftamin\", \"Infubinol\", \"Ketapril\", \"Naftisol\", \"Placebo\", \"Propriva\", \"Ramicane\", \"Stelasyn\", \"Zoniferol\"])\n",
    "plt.xticks(rotation=90)\n",
    "\n",
    "plt.xlim(-0.75, len(x_axis)-0.25)\n",
    "\n",
    "plt.title(\"Drug Regimens Used on Mice\")\n",
    "plt.xlabel(\"Drug Regimen\")\n",
    "plt.ylabel(\"Number of Mice\")\n",
    "\n",
    "plt.show()"
   ]
  },
  {
   "cell_type": "code",
   "execution_count": 245,
   "metadata": {
    "scrolled": false
   },
   "outputs": [
    {
     "data": {
      "image/png": "[encoded data removed]",
      "text/plain": [
       "<Figure size 360x360 with 1 Axes>"
      ]
     },
     "metadata": {},
     "output_type": "display_data"
    }
   ],
   "source": [
    "# Generate a pie plot showing the distribution of female versus male mice using pandas\n",
    "gender_group = clean_mice_data.groupby([\"Sex\"]).count()[\"Mouse ID\"]\n",
    "\n",
    "labels = [\"Male\", \"Female\"]\n",
    "\n",
    "colors = [\"red\", \"blue\"]\n",
    "\n",
    "explode = (0.1, 0)\n",
    "\n",
    "p1 = gender_group.plot.pie(y='Sex', figsize=(5, 5), labels=labels, colors=colors, explode=explode, autopct=\"%1.1f%%\", shadow=True, startangle=140)\n",
    "\n",
    "plt.title(\"Gender Comparison\")\n",
    "\n",
    "plt.show()"
   ]
  },
  {
   "cell_type": "code",
   "execution_count": 246,
   "metadata": {
    "scrolled": true
   },
   "outputs": [
    {
     "data": {
      "text/plain": [
       "Text(0.5, 1.0, 'Gender Comparison')"
      ]
     },
     "execution_count": 246,
     "metadata": {},
     "output_type": "execute_result"
    },
    {
     "data": {
      "image/png": "[encoded data removed]",
      "text/plain": [
       "<Figure size 432x288 with 1 Axes>"
      ]
     },
     "metadata": {},
     "output_type": "display_data"
    }
   ],
   "source": [
    "# Generate a pie plot showing the distribution of female versus male mice using pyplot\n",
    "labels = [\"Male\", \"Female\"]\n",
    "\n",
    "sizes = gender_group.values\n",
    "\n",
    "colors = [\"red\", \"blue\"]\n",
    "\n",
    "explode = (0.1, 0)\n",
    "\n",
    "plt.pie(sizes, explode=explode, labels=labels, colors=colors,\n",
    "        autopct=\"%1.1f%%\", shadow=True, startangle=140)\n",
    "\n",
    "plt.title(\"Gender Comparison\")\n"
   ]
  },
  {
   "cell_type": "markdown",
   "metadata": {},
   "source": [
    "## Quartiles, Outliers and Boxplots"
   ]
  },
  {
   "cell_type": "code",
   "execution_count": 247,
   "metadata": {
    "scrolled": false
   },
   "outputs": [],
   "source": [
    "# Calculate the final tumor volume of each mouse across four of the treatment regimens:  \n",
    "# Capomulin, Ramicane, Infubinol, and Ceftamin\n",
    "\n",
    "# Start by getting the last (greatest) timepoint for each mouse\n",
    "\n",
    "final_tp = clean_mice_data.groupby(['Mouse ID',]).Timepoint.max()\n",
    "final_tp = final_tp.reset_index()\n",
    "final_tp\n",
    "\n",
    "# Merge this group df with the original dataframe to get the tumor volume at the last timepoint\n",
    "\n",
    "merge_final =final_tp[[\"Mouse ID\",\"Timepoint\"]].merge(clean_mice_data, on=[\"Mouse ID\",\"Timepoint\"], how='left')\n",
    "\n",
    "merge_final\n",
    "\n",
    "\n",
    "four_regimens = merge_final[merge_final[\"Drug Regimen\"].isin([\"Capomulin\", \"Ramicane\", \"Infubinol\", \"Ceftamin\"])]\n",
    "\n",
    "#four_regimens\n"
   ]
  },
  {
   "cell_type": "code",
   "execution_count": 248,
   "metadata": {
    "scrolled": false
   },
   "outputs": [
    {
     "name": "stdout",
     "output_type": "stream",
     "text": [
      "-----------------------------------------------------\n",
      "Capomulin Regimen\n",
      "-----------------------------------------------------\n",
      "Tumor volume quartile calculation is: 0.25    32.38\n",
      "0.50    38.13\n",
      "0.75    40.16\n",
      "Name: Tumor Volume (mm3), dtype: float64\n",
      "Tumor volume IQR calculation is: 7.78\n",
      "Tumor volumes below 20.7 and above 51.83 are considered outliers, within the Capomulin regimen.\n",
      "-----------------------------------------------------\n",
      "Ramicane Regimen\n",
      "-----------------------------------------------------\n",
      "Tumor volume quartile calculation is: 0.25    31.56\n",
      "0.50    36.56\n",
      "0.75    40.66\n",
      "Name: Tumor Volume (mm3), dtype: float64\n",
      "Tumor volume IQR calculation is: 9.1\n",
      "Tumor volumes below 19.89 and above 52.33 are considered outliers, within the Ramicane regimen.\n",
      "-----------------------------------------------------\n",
      "Infubinol Regimen\n",
      "-----------------------------------------------------\n",
      "Tumor volume quartile calculation is: 0.25    54.05\n",
      "0.50    60.17\n",
      "0.75    65.53\n",
      "Name: Tumor Volume (mm3), dtype: float64\n",
      "Tumor volume IQR calculation is: 11.48\n",
      "Tumor volumes below 42.38 and above 77.2 are considered outliers, within the Infubinol regimen.\n",
      "-----------------------------------------------------\n",
      "Ceftamin Regimen\n",
      "-----------------------------------------------------\n",
      "Tumor volume quartile calculation is: 0.25    48.72\n",
      "0.50    59.85\n",
      "0.75    64.30\n",
      "Name: Tumor Volume (mm3), dtype: float64\n",
      "Tumor volume IQR calculation is: 15.58\n",
      "Tumor volumes below 37.05 and above 75.97 are considered outliers, within the Ceftamin regimen.\n"
     ]
    }
   ],
   "source": [
    "# Put treatments into a list for for loop (and later for plot labels)\n",
    "four_reg_list = ['Capomulin', 'Ramicane', 'Infubinol', 'Ceftamin']\n",
    "four_reg_list\n",
    "\n",
    "# Create empty list to fill with tumor vol data (for plotting)\n",
    "tumor_vol = []\n",
    "\n",
    "# Calculate the IQR and quantitatively determine if there are any potential outliers. \n",
    "    # Determine outliers using upper and lower bounds\n",
    "    \n",
    "cap= four_regimens.loc[four_regimens['Drug Regimen'] == 'Capomulin']['Tumor Volume (mm3)']\n",
    "ram= four_regimens.loc[four_regimens['Drug Regimen'] == 'Ramicane']['Tumor Volume (mm3)']\n",
    "inf= four_regimens.loc[four_regimens['Drug Regimen'] == 'Infubinol']['Tumor Volume (mm3)']\n",
    "cef= four_regimens.loc[four_regimens['Drug Regimen'] == 'Ceftamin']['Tumor Volume (mm3)']\n",
    "\n",
    "\n",
    "#Capomulin IQR\n",
    "\n",
    "cquartiles = cap.quantile([.25,.5,.75])\n",
    "clowerq = cquartiles[0.25]\n",
    "cupperq = cquartiles[0.75]\n",
    "ciqr = cupperq-clowerq\n",
    "\n",
    "# cquartiles\n",
    "# ciqr\n",
    "\n",
    "print(f\"-----------------------------------------------------\")  \n",
    "print(f\"Capomulin Regimen\") \n",
    "print(f\"-----------------------------------------------------\")  \n",
    "print(f\"Tumor volume quartile calculation is: {round(cquartiles,2)}\")\n",
    "print(f\"Tumor volume IQR calculation is: {round(ciqr,2)}\")      \n",
    "   \n",
    "\n",
    "\n",
    "#Capomulin Outliers\n",
    "\n",
    "clower_outlier= clowerq-(1.5*iqr)\n",
    "cupper_outlier= cupperq+(1.5*iqr)\n",
    "\n",
    "# clower_outlier\n",
    "# cupper_outlier\n",
    "\n",
    "print(f\"Tumor volumes below {round(clower_outlier,2)} and above {round(cupper_outlier,2)} are considered outliers, within the Capomulin regimen.\")\n",
    "\n",
    "\n",
    "#Ramicane IQR\n",
    "\n",
    "rquartiles = ram.quantile([.25,.5,.75])\n",
    "rlowerq = rquartiles[0.25]\n",
    "rupperq = rquartiles[0.75]\n",
    "riqr = rupperq-rlowerq\n",
    "\n",
    "# rquartiles\n",
    "# riqr\n",
    "\n",
    "\n",
    "print(f\"-----------------------------------------------------\")  \n",
    "print(f\"Ramicane Regimen\") \n",
    "print(f\"-----------------------------------------------------\") \n",
    "print(f\"Tumor volume quartile calculation is: {round(rquartiles,2)}\")\n",
    "print(f\"Tumor volume IQR calculation is: {round(riqr,2)}\")     \n",
    "\n",
    "\n",
    "\n",
    "#Ramicane Outliers\n",
    "\n",
    "rlower_outlier= rlowerq-(1.5*iqr)\n",
    "rupper_outlier= rupperq+(1.5*iqr)\n",
    "\n",
    "# rlower_outlier\n",
    "# rupper_outlier\n",
    "\n",
    "print(f\"Tumor volumes below {round(rlower_outlier,2)} and above {round(rupper_outlier,2)} are considered outliers, within the Ramicane regimen.\")\n",
    "\n",
    "\n",
    "#Infubinol IQR\n",
    "\n",
    "iquartiles = inf.quantile([.25,.5,.75])\n",
    "ilowerq = iquartiles[0.25]\n",
    "iupperq = iquartiles[0.75]\n",
    "iiqr = iupperq-ilowerq\n",
    "\n",
    "# iquartiles\n",
    "# iiqr\n",
    "\n",
    "\n",
    "print(f\"-----------------------------------------------------\")  \n",
    "print(f\"Infubinol Regimen\") \n",
    "print(f\"-----------------------------------------------------\") \n",
    "print(f\"Tumor volume quartile calculation is: {round(iquartiles,2)}\")\n",
    "print(f\"Tumor volume IQR calculation is: {round(iiqr,2)}\")       \n",
    "\n",
    "\n",
    "\n",
    "#Infubinol Outliers\n",
    "\n",
    "ilower_outlier= ilowerq-(1.5*iqr)\n",
    "iupper_outlier= iupperq+(1.5*iqr)\n",
    "\n",
    "# ilower_outlier\n",
    "# iupper_outlier\n",
    "\n",
    "print(f\"Tumor volumes below {round(ilower_outlier,2)} and above {round(iupper_outlier,2)} are considered outliers, within the Infubinol regimen.\")\n",
    "\n",
    "\n",
    "#Ceftamin IQR\n",
    "\n",
    "celower_outlier= celowerq-(1.5*iqr)\n",
    "ceupper_outlier= ceupperq+(1.5*iqr)\n",
    "\n",
    "# celower_outlier\n",
    "# ceupper_outlier\n",
    "\n",
    "cequartiles = cef.quantile([.25,.5,.75])\n",
    "celowerq = cequartiles[0.25]\n",
    "ceupperq = cequartiles[0.75]\n",
    "ceiqr = ceupperq-celowerq\n",
    "\n",
    "# cequartiles\n",
    "# ceiqr\n",
    "\n",
    "\n",
    "print(f\"-----------------------------------------------------\")  \n",
    "print(f\"Ceftamin Regimen\") \n",
    "print(f\"-----------------------------------------------------\") \n",
    "print(f\"Tumor volume quartile calculation is: {round(cequartiles,2)}\")\n",
    "print(f\"Tumor volume IQR calculation is: {round(ceiqr,2)}\")     \n",
    "\n",
    "\n",
    "#Ceftamin Outliers\n",
    "\n",
    "celower_outlier= celowerq-(1.5*iqr)\n",
    "ceupper_outlier= ceupperq+(1.5*iqr)\n",
    "\n",
    "# celower_outlier\n",
    "# ceupper_outlier\n",
    "\n",
    "print(f\"Tumor volumes below {round(celower_outlier,2)} and above {round(ceupper_outlier,2)} are considered outliers, within the Ceftamin regimen.\")\n",
    "\n",
    "\n",
    "        \n",
    "    # Locate the rows which contain mice on each drug and get the tumor volumes\n",
    "four_regimens[['Drug Regimen','Mouse ID', 'Tumor Volume (mm3)']]    \n",
    "   \n",
    "    # add subset \n",
    "    \n",
    "four_reg_mice = four_regimens[['Drug Regimen', 'Mouse ID', 'Tumor Volume (mm3)']] \n",
    "#four_reg_mice  \n",
    "    \n",
    "\n",
    "\n",
    "    "
   ]
  },
  {
   "cell_type": "code",
   "execution_count": 249,
   "metadata": {
    "scrolled": false
   },
   "outputs": [
    {
     "data": {
      "image/png": "[encoded data removed]",
      "text/plain": [
       "<Figure size 432x288 with 1 Axes>"
      ]
     },
     "metadata": {
      "needs_background": "light"
     },
     "output_type": "display_data"
    }
   ],
   "source": [
    "# Generate a box plot of the final tumor volume of each mouse across four regimens of interest\n",
    "\n",
    "regimens = [cap, ram, inf, cef]\n",
    "fig1, ax1 = plt.subplots()\n",
    "ax1.set_title('Final Tumor Volume')\n",
    "ax1.set_ylabel('Tumor Volume 3mm')\n",
    "green_diamond = dict(markerfacecolor='g', marker='D')\n",
    "ax1.boxplot(regimens, labels=four_reg_list, flierprops=green_diamond)\n",
    "plt.show()"
   ]
  },
  {
   "cell_type": "markdown",
   "metadata": {},
   "source": [
    "## Line and Scatter Plots"
   ]
  },
  {
   "cell_type": "code",
   "execution_count": 250,
   "metadata": {
    "scrolled": false
   },
   "outputs": [
    {
     "data": {
      "image/png": "[encoded data removed]",
      "text/plain": [
       "<Figure size 432x288 with 1 Axes>"
      ]
     },
     "metadata": {
      "needs_background": "light"
     },
     "output_type": "display_data"
    }
   ],
   "source": [
    "# Generate a line plot of tumor volume vs. time point for a mouse treated with Capomulin\n",
    "cap_reg = clean_mice_data.loc[clean_mice_data['Drug Regimen'] == 'Capomulin']\n",
    "mouse = clean_mice_data.loc[clean_mice_data['Mouse ID'] == 'y793']\n",
    "\n",
    "cap_reg\n",
    "mouse\n",
    "\n",
    "x_axis = mouse['Timepoint']\n",
    "y_axis = mouse['Tumor Volume (mm3)']\n",
    "\n",
    "mouse_handle, = plt.plot(x_axis, y_axis, marker ='o', label ='Mouse ID y793')\n",
    "\n",
    "plt.xlabel('Timepoint')\n",
    "plt.ylabel('Tumor Volume (mm3)')\n",
    "plt.title('Tumor Volume Over Time on Regimen Capomulin')\n",
    "plt.legend(loc=\"upper right\")\n",
    "plt.show()\n"
   ]
  },
  {
   "cell_type": "code",
   "execution_count": 251,
   "metadata": {
    "scrolled": false
   },
   "outputs": [
    {
     "data": {
      "image/png": "[encoded data removed]",
      "text/plain": [
       "<Figure size 432x288 with 1 Axes>"
      ]
     },
     "metadata": {
      "needs_background": "light"
     },
     "output_type": "display_data"
    }
   ],
   "source": [
    "# Generate a scatter plot of average tumor volume vs. mouse weight for the Capomulin regimen\n",
    "cap_tum = clean_mice_data.loc[clean_mice_data['Drug Regimen'] == 'Capomulin']\n",
    "cap_mouse_grp = cap_tum.groupby(['Mouse ID'])\n",
    "cap_mouse_grp.head()\n",
    "\n",
    "av_cap_vol = cap_mouse_grp['Tumor Volume (mm3)'].mean()\n",
    "av_cap_vol\n",
    "\n",
    "cap_weight= cap_mouse_grp['Weight (g)'].mean()\n",
    "cap_weight.head()\n",
    "\n",
    "x_values = cap_weight\n",
    "y_values = av_cap_vol\n",
    "plt.scatter(x_values,y_values)\n",
    "plt.xlabel('Weight of Mouse')\n",
    "plt.ylabel('Tumor Volume 3mm')\n",
    "plt.title('Average Tumor Volume VS Mouse Weight on Regimen Capomulin')\n",
    "plt.show()"
   ]
  },
  {
   "cell_type": "markdown",
   "metadata": {},
   "source": [
    "## Correlation and Regression"
   ]
  },
  {
   "cell_type": "code",
   "execution_count": 252,
   "metadata": {
    "scrolled": true
   },
   "outputs": [
    {
     "name": "stdout",
     "output_type": "stream",
     "text": [
      "The r-squared is: 0.7088568047708717\n",
      "The correlation between Tumor Volume and Mouse Weight is 0.84\n"
     ]
    },
    {
     "data": {
      "image/png": "[encoded data removed]",
      "text/plain": [
       "<Figure size 432x288 with 1 Axes>"
      ]
     },
     "metadata": {
      "needs_background": "light"
     },
     "output_type": "display_data"
    }
   ],
   "source": [
    "# Calculate the correlation coefficient and linear regression model \n",
    "# for mouse weight and average tumor volume for the Capomulin regimen\n",
    "\n",
    "(slope, intercept, rvalue, pvalue, stderr) = linregress(x_values, y_values)\n",
    "regress_values = x_values * slope + intercept\n",
    "line_eq = \"y = \" + str(round(slope,2)) + \"x + \" + str(round(intercept,2))\n",
    "plt.scatter(x_values,y_values)\n",
    "plt.plot(x_values,regress_values,\"r-\")\n",
    "plt.annotate(line_eq,(20,36),fontsize=15,color=\"red\")\n",
    "print(f\"The r-squared is: {rvalue**2}\")\n",
    "print(f\"The correlation between Tumor Volume and Mouse Weight is {round(rvalue,2)}\")\n",
    "plt.show()"
   ]
  },
  {
   "cell_type": "code",
   "execution_count": null,
   "metadata": {},
   "outputs": [],
   "source": []
  }
 ],
 "metadata": {
  "anaconda-cloud": {},
  "kernelspec": {
   "display_name": "Python 3",
   "language": "python",
   "name": "python3"
  },
  "language_info": {
   "codemirror_mode": {
    "name": "ipython",
    "version": 3
   },
   "file_extension": ".py",
   "mimetype": "text/x-python",
   "name": "python",
   "nbconvert_exporter": "python",
   "pygments_lexer": "ipython3",
   "version": "3.8.5"
  }
 },
 "nbformat": 4,
 "nbformat_minor": 4
}
